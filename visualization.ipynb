{
 "cells": [
  {
   "cell_type": "code",
   "execution_count": 4,
   "outputs": [
    {
     "name": "stdout",
     "output_type": "stream",
     "text": [
      "['Random.npy', '.DS_Store', 'Center.npy', 'Donut', 'Edge_Ring', 'Loc', 'none.npy', 'Center', 'Donut.npy', 'Edge_Ring.npy', 'Loc.npy', 'Edge_Loc', 'Scratch', 'LSWMD.pkl', 'Edge_Loc.npy', 'Near_full.npy', 'Scratch.npy', 'Random', 'none', 'Near_full']\n"
     ]
    }
   ],
   "source": [
    "# loading libraries\n",
    "import numpy as np # linear algebra\n",
    "import pandas as pd # data processing, CSV file I/O (e.g. pd.read_csv)\n",
    "import matplotlib.pyplot as plt\n",
    "%matplotlib inline\n",
    "\n",
    "import os\n",
    "print(os.listdir(\"../input\"))\n",
    "import warnings\n",
    "warnings.filterwarnings(\"ignore\")"
   ],
   "metadata": {
    "collapsed": false,
    "pycharm": {
     "name": "#%%\n"
    }
   }
  },
  {
   "cell_type": "code",
   "execution_count": 7,
   "outputs": [
    {
     "name": "stdout",
     "output_type": "stream",
     "text": [
      "<class 'pandas.core.frame.DataFrame'>\n",
      "RangeIndex: 811457 entries, 0 to 811456\n",
      "Data columns (total 6 columns):\n",
      " #   Column          Non-Null Count   Dtype  \n",
      "---  ------          --------------   -----  \n",
      " 0   waferMap        811457 non-null  object \n",
      " 1   dieSize         811457 non-null  float64\n",
      " 2   lotName         811457 non-null  object \n",
      " 3   waferIndex      811457 non-null  float64\n",
      " 4   trianTestLabel  811457 non-null  object \n",
      " 5   failureType     811457 non-null  object \n",
      "dtypes: float64(2), object(4)\n",
      "memory usage: 37.1+ MB\n"
     ]
    }
   ],
   "source": [
    "df=pd.read_pickle(\"../input/LSWMD.pkl\")\n",
    "df.info()"
   ],
   "metadata": {
    "collapsed": false,
    "pycharm": {
     "name": "#%%\n"
    }
   }
  },
  {
   "cell_type": "code",
   "execution_count": null,
   "outputs": [],
   "source": [
    "df.head()"
   ],
   "metadata": {
    "collapsed": false,
    "pycharm": {
     "name": "#%%\n"
    }
   }
  },
  {
   "cell_type": "code",
   "execution_count": null,
   "outputs": [],
   "source": [
    "df.tail()\n",
    "def find_dim(x):\n",
    "    dim0=np.size(x,axis=0)\n",
    "    dim1=np.size(x,axis=1)\n",
    "    return dim0,dim1\n",
    "df['waferMapDim']=df.waferMap.apply(find_dim)\n",
    "df.sample(5)\n",
    "min(df.waferMapDim)"
   ],
   "metadata": {
    "collapsed": false,
    "pycharm": {
     "name": "#%%\n"
    }
   }
  },
  {
   "cell_type": "code",
   "execution_count": null,
   "outputs": [],
   "source": [
    "import matplotlib.pyplot as plt\n",
    "%matplotlib inline\n",
    "\n",
    "\n",
    "uni_Index=np.unique(df.waferIndex, return_counts=True)\n",
    "plt.bar(uni_Index[0],uni_Index[1], color='gold', align='center', alpha=0.5)\n",
    "plt.title(\" wafer Index distribution\")\n",
    "plt.xlabel(\"index #\")\n",
    "plt.ylabel(\"frequency\")\n",
    "plt.xlim(0,26)\n",
    "plt.ylim(30000,34000)\n",
    "plt.show()"
   ],
   "metadata": {
    "collapsed": false,
    "pycharm": {
     "name": "#%%\n"
    }
   }
  },
  {
   "cell_type": "code",
   "execution_count": null,
   "outputs": [],
   "source": [
    "df['failureNum']=df.failureType\n",
    "df['trainTestNum']=df.trianTestLabel\n",
    "mapping_type={'Center':0,'Donut':1,'Edge-Loc':2,'Edge-Ring':3,'Loc':4,'Random':5,'Scratch':6,'Near-full':7,'none':8}\n",
    "mapping_traintest={'Training':0,'Test':1}\n",
    "df=df.replace({'failureNum':mapping_type, 'trainTestNum':mapping_traintest})\n",
    "df.sample(5)"
   ],
   "metadata": {
    "collapsed": false,
    "pycharm": {
     "name": "#%%\n"
    }
   }
  },
  {
   "cell_type": "code",
   "execution_count": null,
   "outputs": [],
   "source": [
    "L_df = []\n",
    "for i in range(9):\n",
    "    L_df.append(df[(df['failureNum']==i)])\n",
    "for i in L_df:\n",
    "    print(i.shape[0])"
   ],
   "metadata": {
    "collapsed": false,
    "pycharm": {
     "name": "#%%\n"
    }
   }
  },
  {
   "cell_type": "code",
   "execution_count": null,
   "outputs": [],
   "source": [
    "new_df = df[(0<=df['failureNum'])]\n",
    "new_df = new_df.drop(['dieSize'],axis=1)\n",
    "new_df = new_df.drop(['lotName'],axis=1)\n",
    "new_df = new_df.drop(['waferIndex'],axis=1)\n",
    "new_df = new_df.drop(['trianTestLabel'],axis=1)\n",
    "new_df = new_df.drop(['failureType'],axis=1)\n",
    "new_df = new_df.drop(['trainTestNum'],axis=1)\n",
    "new_df"
   ],
   "metadata": {
    "collapsed": false,
    "pycharm": {
     "name": "#%%\n"
    }
   }
  },
  {
   "cell_type": "code",
   "execution_count": null,
   "outputs": [],
   "source": [
    "Center = []\n",
    "Donut = []\n",
    "Edge_Loc = []\n",
    "Edge_Ring = []\n",
    "Loc = []\n",
    "Random = []\n",
    "Scratch = []\n",
    "Near_full = []\n",
    "none = []\n",
    "for index, row in new_df.iterrows():\n",
    "    wafer,num = row['waferMap'], row['failureNum']\n",
    "    if num == 0:\n",
    "        Center.append(wafer)\n",
    "    elif num == 1:\n",
    "        Donut.append(wafer)\n",
    "    elif num == 2:\n",
    "        Edge_Loc.append(wafer)\n",
    "    elif num == 3:\n",
    "        Edge_Ring.append(wafer)\n",
    "    elif num == 4:\n",
    "        Loc.append(wafer)\n",
    "    elif num == 5:\n",
    "        Random.append(wafer)\n",
    "    elif num == 6:\n",
    "        Scratch.append(wafer)\n",
    "    elif num == 7:\n",
    "        Near_full.append(wafer)\n",
    "    else:\n",
    "        none.append(wafer)\n",
    "\n",
    "Center = np.array(Center)\n",
    "Donut = np.array(Donut)\n",
    "Edge_Loc = np.array(Edge_Loc)\n",
    "Edge_Ring = np.array(Edge_Ring)\n",
    "Loc = np.array(Loc)\n",
    "Random = np.array(Random)\n",
    "Scratch = np.array(Scratch)\n",
    "Near_full = np.array(Near_full)\n",
    "none = np.array(none)\n",
    "# np.save('../input/Center.npy',Center)\n",
    "# np.save('../input/Donut.npy',Donut)\n",
    "# np.save('../input/Edge_Loc.npy',Edge_Loc)\n",
    "# np.save('../input/Edge_Ring.npy',Edge_Ring)\n",
    "# np.save('../input/Loc.npy',Loc)\n",
    "# np.save('../input/Random.npy',Random)\n",
    "# np.save('../input/Scratch.npy',Scratch)\n",
    "# np.save('../input/Near_full.npy',Near_full)\n",
    "# np.save('../input/none.npy',none)"
   ],
   "metadata": {
    "collapsed": false,
    "pycharm": {
     "name": "#%%\n"
    }
   }
  },
  {
   "cell_type": "code",
   "execution_count": null,
   "outputs": [],
   "source": [
    "def convertChannel(failuretype):\n",
    "    new = []\n",
    "    for i in range(failuretype.shape[0]):\n",
    "        r,c = failuretype[i].shape[0], failuretype[i].shape[1]\n",
    "        empty = np.zeros((r,c,3),dtype=np.uint8)\n",
    "        new.append(empty)\n",
    "        for p in range(r):\n",
    "            for q in range(c):\n",
    "                this = new[i]\n",
    "                num = int(failuretype[i][p][q])\n",
    "                this[p,q,num] = np.uint8(255)\n",
    "    return np.array(new)\n",
    "new_center = convertChannel(Center)\n",
    "print(new_center[0])\n",
    "print(Center[0])"
   ],
   "metadata": {
    "collapsed": false,
    "pycharm": {
     "name": "#%%\n"
    }
   }
  },
  {
   "cell_type": "code",
   "execution_count": null,
   "outputs": [],
   "source": [
    "plt.imshow(Center[100])\n",
    "plt.show()\n",
    "plt.imshow(new_center[100])\n",
    "plt.show()\n",
    "new_center[100]"
   ],
   "metadata": {
    "collapsed": false,
    "pycharm": {
     "name": "#%%\n"
    }
   }
  },
  {
   "cell_type": "code",
   "execution_count": null,
   "outputs": [],
   "source": [
    "# from PIL import Image\n",
    "# img = Image.fromarray(new_center[100],'RGB')\n",
    "# img.save('try.png')\n",
    "# img.show()\n",
    "new_center = convertChannel(Center)\n",
    "new_donut = convertChannel(Donut)\n",
    "new_edgeloc = convertChannel(Edge_Loc)\n",
    "new_edgering = convertChannel(Edge_Ring)\n",
    "new_loc = convertChannel(Loc)\n",
    "new_random = convertChannel(Random)\n",
    "new_scratch = convertChannel(Scratch)\n",
    "new_nearfull = convertChannel(Near_full)\n",
    "new_none = convertChannel(none)\n",
    "print('finished')"
   ],
   "metadata": {
    "collapsed": false,
    "pycharm": {
     "name": "#%%\n"
    }
   }
  },
  {
   "cell_type": "code",
   "execution_count": null,
   "outputs": [],
   "source": [
    "from PIL import Image\n",
    "def saveImage(certainType):\n",
    "    for i in range(certainType.shape[0]):\n",
    "        img = Image.fromarray(certainType[i],'RGB')\n",
    "        img.save('../input/none/none%d.jpg'%(i+1))\n",
    "    print('process finished')\n",
    "print('done')"
   ],
   "metadata": {
    "collapsed": false,
    "pycharm": {
     "name": "#%%\n"
    }
   }
  },
  {
   "cell_type": "code",
   "execution_count": null,
   "outputs": [],
   "source": [
    "# img = Image.open('../input/Center/Center1.jpg')\n",
    "# img2 = img.resize((64,64))\n",
    "# img2.save('../center1resized.jpg')\n",
    "# img3 = np.array(img2)\n",
    "# img3"
   ],
   "metadata": {
    "collapsed": false,
    "pycharm": {
     "name": "#%%\n"
    }
   }
  },
  {
   "cell_type": "code",
   "execution_count": null,
   "outputs": [],
   "source": [
    "map = {'Center':4294, 'Donut':555, 'Edge_Loc':5189, 'Edge_Ring':9680, 'Loc':3593, 'Random':866,'Scratch':193,'Near_full':149, 'none':147431}\n",
    "# for i in range(4294):\n",
    "#     img = Image.open('../input/Center/Center%d.jpg'%(i+1))\n",
    "#     img = img.resize((64,64))\n",
    "#     img.save('../resized/center/center%d.jpg'%(i+1))\n",
    "def resize(pattern):\n",
    "    for i in range(map[pattern]):\n",
    "        img = Image.open('../input/%s/%s%d.jpg'%(pattern,pattern,i+1))\n",
    "        img = img.resize((32,32),Image.BICUBIC)\n",
    "        img.save('../resized/%s/%s%d.jpg'%(pattern,pattern,i+1))\n",
    "# for pattern in map:\n",
    "#     resize(pattern)"
   ],
   "metadata": {
    "collapsed": false,
    "pycharm": {
     "name": "#%%\n"
    }
   }
  },
  {
   "cell_type": "code",
   "execution_count": null,
   "outputs": [],
   "source": [
    "# for i in range(3006):\n",
    "#     os.remove('../wafer_train/center/center%d.jpg'%(i+1))"
   ],
   "metadata": {
    "collapsed": false,
    "pycharm": {
     "name": "#%%\n"
    }
   }
  },
  {
   "cell_type": "code",
   "execution_count": null,
   "outputs": [],
   "source": [
    "#移动文件\n",
    "import shutil\n",
    "# for i in range(7000,10000):\n",
    "#     source = '../resized/none/none%d.jpg'%(i+1)\n",
    "#     destination = '../wafer_test/none/none%d.jpg'%(i-6999)\n",
    "#     shutil.move(source, destination)\n",
    "def move(pattern):\n",
    "    index = int(map[pattern] * 0.7)\n",
    "    for i in range(index):\n",
    "        img = Image.open('../resized/%s/%s%d.jpg'%(pattern,pattern,i+1))\n",
    "        img.save('../train_img/%s/%s%d.jpg'%(pattern,pattern,i+1))\n",
    "def move_left(pattern):\n",
    "    index = int(map[pattern] * 0.7)\n",
    "    for i in range(index,map[pattern]):\n",
    "        img = Image.open('../resized/%s/%s%d.jpg'%(pattern,pattern,i+1))\n",
    "        img.save('../test_img/%s/%s%d.jpg'%(pattern,pattern,i+1))\n",
    "\n",
    "# for pattern in map:\n",
    "#     move_left(pattern)"
   ],
   "metadata": {
    "collapsed": false,
    "pycharm": {
     "name": "#%%\n"
    }
   }
  },
  {
   "cell_type": "code",
   "execution_count": null,
   "outputs": [],
   "source": [
    "# FLIP_LEFT_RIGHT\n",
    "# ROTATE_90\n",
    "# ROTATE_180\n",
    "# ROTATE_270\n",
    "# Rotate image\n",
    "# for i in range(1,46):\n",
    "#     img = Image.open('../wafer_test/newnear_full/near_full%d.jpg'%(i))\n",
    "#     img = img.transpose(Image.ROTATE_270)\n",
    "#     img.save('../wafer_test/newnear_full/near_full%d.jpg'%(i+270))\n",
    "def augment(pattern):\n",
    "    index = int(map[pattern]*0.7)\n",
    "    for i in range(index):\n",
    "        origin = Image.open('../train_img/%s/%s%d.jpg'%(pattern,pattern,i+1))\n",
    "\n",
    "        img = origin.transpose(Image.ROTATE_90)\n",
    "        img.save('../train_img/new%s/%s%s%d.jpg'%(pattern,pattern,'_1_',i+1))\n",
    "\n",
    "        img = origin.transpose(Image.ROTATE_180)\n",
    "        img.save('../train_img/new%s/%s%s%d.jpg'%(pattern,pattern,'_2_',i+1))\n",
    "\n",
    "        img = origin.transpose(Image.ROTATE_270)\n",
    "        img.save('../train_img/new%s/%s%s%d.jpg'%(pattern,pattern,'_3_',i+1))\n",
    "\n",
    "        flipped = origin.transpose(Image.FLIP_LEFT_RIGHT)\n",
    "        flipped.save('../train_img/new%s/%s%s%d.jpg'%(pattern,pattern,'_4_',i+1))\n",
    "\n",
    "        img = flipped.transpose(Image.ROTATE_90)\n",
    "        img.save('../train_img/new%s/%s%s%d.jpg'%(pattern,pattern,'_5_',i+1))\n",
    "\n",
    "        img = flipped.transpose(Image.ROTATE_180)\n",
    "        img.save('../train_img/new%s/%s%s%d.jpg'%(pattern,pattern,'_6_',i+1))\n",
    "\n",
    "        img = flipped.transpose(Image.ROTATE_270)\n",
    "        img.save('../train_img/new%s/%s%s%d.jpg'%(pattern,pattern,'_7_',i+1))\n",
    "# augment('Near_full')"
   ],
   "metadata": {
    "collapsed": false,
    "pycharm": {
     "name": "#%%\n"
    }
   }
  },
  {
   "cell_type": "code",
   "execution_count": null,
   "outputs": [],
   "source": [
    "# none = []\n",
    "# for i in range(1,7001):\n",
    "#     img = Image.open('../wafer_train/none/none%d.jpg'%i)\n",
    "#     img_arr = np.array(img)\n",
    "#     none.append([8,img_arr])\n",
    "# none = np.array(none)\n",
    "# np.save('../dataSet/train/none.npy',none)\n",
    "# print(none.shape,none[0])"
   ],
   "metadata": {
    "collapsed": false,
    "pycharm": {
     "name": "#%%\n"
    }
   }
  },
  {
   "cell_type": "code",
   "execution_count": null,
   "outputs": [],
   "source": [
    "# none = []\n",
    "# for i in range(1,3001):\n",
    "#     img = Image.open('../wafer_test/none/none%d.jpg'%i)\n",
    "#     img_arr = np.array(img)\n",
    "#     none.append([8,img_arr])\n",
    "# none = np.array(none)\n",
    "# np.save('../dataSet/test/none.npy',none)\n",
    "# print(none.shape,none[0])"
   ],
   "metadata": {
    "collapsed": false,
    "pycharm": {
     "name": "#%%\n"
    }
   }
  },
  {
   "cell_type": "code",
   "execution_count": null,
   "outputs": [],
   "source": [
    "# near_full = []\n",
    "# for i in range(1,105):\n",
    "#     img = Image.open('../wafer_train/near_full/near_full%d.jpg'%i)\n",
    "#     img_arr = np.array(img)\n",
    "#     near_full.append([7,img_arr])\n",
    "# for i in range(1,729):\n",
    "#     img = Image.open('../wafer_train/newnear_full/near_full%d.jpg'%i)\n",
    "#     img_arr = np.array(img)\n",
    "#     near_full.append([7,img_arr])\n",
    "# near_full = np.array(near_full)\n",
    "# np.save('../dataSet/train/near_full.npy',near_full)\n",
    "# print(near_full.shape,near_full[0])"
   ],
   "metadata": {
    "collapsed": false,
    "pycharm": {
     "name": "#%%\n"
    }
   }
  },
  {
   "cell_type": "code",
   "execution_count": null,
   "outputs": [],
   "source": [
    "# near_full = []\n",
    "# for i in range(1,46):\n",
    "#     img = Image.open('../wafer_test/near_full/near_full%d.jpg'%i)\n",
    "#     img_arr = np.array(img)\n",
    "#     near_full.append([7,img_arr])\n",
    "# for i in range(1,316):\n",
    "#     img = Image.open('../wafer_test/newnear_full/near_full%d.jpg'%i)\n",
    "#     img_arr = np.array(img)\n",
    "#     near_full.append([7,img_arr])\n",
    "# near_full = np.array(near_full)\n",
    "# np.save('../dataSet/test/near_full.npy',near_full)\n",
    "# print(near_full.shape,near_full[0])"
   ],
   "metadata": {
    "collapsed": false,
    "pycharm": {
     "name": "#%%\n"
    }
   }
  },
  {
   "cell_type": "code",
   "execution_count": null,
   "outputs": [],
   "source": [],
   "metadata": {
    "collapsed": false,
    "pycharm": {
     "name": "#%%\n"
    }
   }
  },
  {
   "cell_type": "code",
   "execution_count": null,
   "outputs": [],
   "source": [
    "import glob as go\n",
    "import cv2\n",
    "print('hello')"
   ],
   "metadata": {
    "collapsed": false,
    "pycharm": {
     "name": "#%%\n"
    }
   }
  },
  {
   "cell_type": "code",
   "execution_count": null,
   "outputs": [],
   "source": [
    "# map = {'Center':4294, 'Donut':555, 'Edge_Loc':5189, 'Edge_Ring':9680, 'Loc':3593, 'Random':866,'Scratch':193,'Near_full':149, 'none':147431}\n",
    "# none = []\n",
    "# for i in range(1,7001):\n",
    "#     img = Image.open('../wafer_train/none/none%d.jpg'%i)\n",
    "#     img_arr = np.array(img)\n",
    "#     none.append([8,img_arr])\n",
    "# none = np.array(none)\n",
    "# np.save('../dataSet/train/none.npy',none)\n",
    "# print(none.shape,none[0])\n",
    "Center = []\n",
    "Donut = []\n",
    "Edge_Loc = []\n",
    "Edge_Ring = []\n",
    "Loc = []\n",
    "Random = []\n",
    "Scratch = []\n",
    "Near_full = []\n",
    "none = []\n",
    "classes = {'Center':0, 'Donut':1, 'Edge_Loc':2, 'Edge_Ring':3, 'Loc':4, 'Random':5, 'Scratch':6, 'Near_full':7, 'none':8}\n",
    "variables = [Center,Donut,Edge_Loc,Edge_Ring,Loc,Random,Scratch,Near_full,none]\n",
    "def convertTonp(pattern):\n",
    "    index = int(map[pattern]*0.7)\n",
    "    for i in range(index,map[pattern]):\n",
    "        origin = Image.open('../test_img/%s/%s%d.jpg'%(pattern,pattern,i+1))\n",
    "        img_arr = np.array(origin)\n",
    "        variables[classes[pattern]].append([classes[pattern],img_arr])\n",
    "\n",
    "def convertTonp2(pattern):\n",
    "    index = int(map[pattern]*0.7)\n",
    "    for i in range(index,map[pattern]):\n",
    "        origin = Image.open('../test_img/%s/%s%d.jpg'%(pattern,pattern,i+1))\n",
    "        img_arr = np.array(origin)\n",
    "        variables[classes[pattern]].append([classes[pattern],img_arr])\n",
    "        img = Image.open('../test_img/new%s/%s%s%d.jpg'%(pattern,pattern,'_1_',i+1))\n",
    "        img_arr = np.array(img)\n",
    "        variables[classes[pattern]].append([classes[pattern],img_arr])\n",
    "        img = Image.open('../test_img/new%s/%s%s%d.jpg'%(pattern,pattern,'_2_',i+1))\n",
    "        img_arr = np.array(img)\n",
    "        variables[classes[pattern]].append([classes[pattern],img_arr])\n",
    "        img = Image.open('../test_img/new%s/%s%s%d.jpg'%(pattern,pattern,'_3_',i+1))\n",
    "        img_arr = np.array(img)\n",
    "        variables[classes[pattern]].append([classes[pattern],img_arr])\n",
    "        img = Image.open('../test_img/new%s/%s%s%d.jpg'%(pattern,pattern,'_4_',i+1))\n",
    "        img_arr = np.array(img)\n",
    "        variables[classes[pattern]].append([classes[pattern],img_arr])\n",
    "        img = Image.open('../test_img/new%s/%s%s%d.jpg'%(pattern,pattern,'_5_',i+1))\n",
    "        img_arr = np.array(img)\n",
    "        variables[classes[pattern]].append([classes[pattern],img_arr])\n",
    "        img = Image.open('../test_img/new%s/%s%s%d.jpg'%(pattern,pattern,'_6_',i+1))\n",
    "        img_arr = np.array(img)\n",
    "        variables[classes[pattern]].append([classes[pattern],img_arr])\n",
    "        img = Image.open('../test_img/new%s/%s%s%d.jpg'%(pattern,pattern,'_7_',i+1))\n",
    "        img_arr = np.array(img)\n",
    "        variables[classes[pattern]].append([classes[pattern],img_arr])\n"
   ],
   "metadata": {
    "collapsed": false,
    "pycharm": {
     "name": "#%%\n"
    }
   }
  },
  {
   "cell_type": "code",
   "execution_count": null,
   "outputs": [],
   "source": [
    "# convertTonp('Near_full')\n",
    "# temp = np.array(Near_full)\n",
    "# np.save('../dataSet/new_test/Near_full.npy',temp)\n",
    "# print(temp.shape,temp[0])"
   ],
   "metadata": {
    "collapsed": false,
    "pycharm": {
     "name": "#%%\n"
    }
   }
  },
  {
   "cell_type": "code",
   "execution_count": null,
   "outputs": [],
   "source": [
    "# convertTonp2('Donut')\n",
    "# temp = np.array(Donut)\n",
    "# np.save('../dataSet/new_test/Donut.npy',temp)\n",
    "# print(temp.shape,temp[0])"
   ],
   "metadata": {
    "collapsed": false,
    "pycharm": {
     "name": "#%%\n"
    }
   }
  },
  {
   "cell_type": "code",
   "execution_count": null,
   "outputs": [],
   "source": [
    "a = np.load('../dataSet/new_train/Loc.npy', allow_pickle=True)\n",
    "print(a.shape,a[0])"
   ],
   "metadata": {
    "collapsed": false,
    "pycharm": {
     "name": "#%%\n"
    }
   }
  },
  {
   "cell_type": "code",
   "execution_count": null,
   "outputs": [],
   "source": [
    "for pattern in map:\n",
    "    convertTonp(pattern)\n",
    "    temp = variables[classes[pattern]]\n",
    "    np.save('../dataSet/original_test/%s.npy'%(pattern),temp)"
   ],
   "metadata": {
    "collapsed": false,
    "pycharm": {
     "name": "#%%\n"
    }
   }
  },
  {
   "cell_type": "code",
   "execution_count": null,
   "outputs": [],
   "source": [],
   "metadata": {
    "collapsed": false,
    "pycharm": {
     "name": "#%%\n"
    }
   }
  }
 ],
 "metadata": {
  "kernelspec": {
   "display_name": "Python 3",
   "language": "python",
   "name": "python3"
  },
  "language_info": {
   "codemirror_mode": {
    "name": "ipython",
    "version": 2
   },
   "file_extension": ".py",
   "mimetype": "text/x-python",
   "name": "python",
   "nbconvert_exporter": "python",
   "pygments_lexer": "ipython2",
   "version": "2.7.6"
  }
 },
 "nbformat": 4,
 "nbformat_minor": 0
}